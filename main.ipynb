{
 "cells": [
  {
   "attachments": {},
   "cell_type": "markdown",
   "metadata": {},
   "source": [
    "# Instalação de pacotes e configurações"
   ]
  },
  {
   "cell_type": "code",
   "execution_count": 1,
   "metadata": {},
   "outputs": [
    {
     "name": "stdout",
     "output_type": "stream",
     "text": [
      "Requirement already satisfied: geopandas in c:\\users\\kalinoski\\appdata\\local\\programs\\python\\python310\\lib\\site-packages (0.13.2)\n",
      "Requirement already satisfied: pyproj>=3.0.1 in c:\\users\\kalinoski\\appdata\\local\\programs\\python\\python310\\lib\\site-packages (from geopandas) (3.5.0)\n",
      "Requirement already satisfied: shapely>=1.7.1 in c:\\users\\kalinoski\\appdata\\local\\programs\\python\\python310\\lib\\site-packages (from geopandas) (2.0.1)\n",
      "Requirement already satisfied: packaging in c:\\users\\kalinoski\\appdata\\roaming\\python\\python310\\site-packages (from geopandas) (23.1)\n",
      "Requirement already satisfied: fiona>=1.8.19 in c:\\users\\kalinoski\\appdata\\local\\programs\\python\\python310\\lib\\site-packages (from geopandas) (1.9.4.post1)\n",
      "Requirement already satisfied: pandas>=1.1.0 in c:\\users\\kalinoski\\appdata\\local\\programs\\python\\python310\\lib\\site-packages (from geopandas) (2.0.2)\n",
      "Requirement already satisfied: attrs>=19.2.0 in c:\\users\\kalinoski\\appdata\\local\\programs\\python\\python310\\lib\\site-packages (from fiona>=1.8.19->geopandas) (23.1.0)\n",
      "Requirement already satisfied: click-plugins>=1.0 in c:\\users\\kalinoski\\appdata\\local\\programs\\python\\python310\\lib\\site-packages (from fiona>=1.8.19->geopandas) (1.1.1)\n",
      "Requirement already satisfied: cligj>=0.5 in c:\\users\\kalinoski\\appdata\\local\\programs\\python\\python310\\lib\\site-packages (from fiona>=1.8.19->geopandas) (0.7.2)\n",
      "Requirement already satisfied: certifi in c:\\users\\kalinoski\\appdata\\local\\programs\\python\\python310\\lib\\site-packages (from fiona>=1.8.19->geopandas) (2023.5.7)\n",
      "Requirement already satisfied: six in c:\\users\\kalinoski\\appdata\\roaming\\python\\python310\\site-packages (from fiona>=1.8.19->geopandas) (1.16.0)\n",
      "Requirement already satisfied: click~=8.0 in c:\\users\\kalinoski\\appdata\\local\\programs\\python\\python310\\lib\\site-packages (from fiona>=1.8.19->geopandas) (8.1.3)\n",
      "Requirement already satisfied: python-dateutil>=2.8.2 in c:\\users\\kalinoski\\appdata\\roaming\\python\\python310\\site-packages (from pandas>=1.1.0->geopandas) (2.8.2)\n",
      "Requirement already satisfied: numpy>=1.21.0 in c:\\users\\kalinoski\\appdata\\local\\programs\\python\\python310\\lib\\site-packages (from pandas>=1.1.0->geopandas) (1.24.3)\n",
      "Requirement already satisfied: tzdata>=2022.1 in c:\\users\\kalinoski\\appdata\\local\\programs\\python\\python310\\lib\\site-packages (from pandas>=1.1.0->geopandas) (2023.3)\n",
      "Requirement already satisfied: pytz>=2020.1 in c:\\users\\kalinoski\\appdata\\local\\programs\\python\\python310\\lib\\site-packages (from pandas>=1.1.0->geopandas) (2023.3)\n",
      "Requirement already satisfied: colorama in c:\\users\\kalinoski\\appdata\\roaming\\python\\python310\\site-packages (from click~=8.0->fiona>=1.8.19->geopandas) (0.4.6)\n",
      "Note: you may need to restart the kernel to use updated packages.\n"
     ]
    },
    {
     "name": "stderr",
     "output_type": "stream",
     "text": [
      "\n",
      "[notice] A new release of pip available: 22.2.1 -> 23.1.2\n",
      "[notice] To update, run: python.exe -m pip install --upgrade pip\n"
     ]
    },
    {
     "name": "stdout",
     "output_type": "stream",
     "text": [
      "Requirement already satisfied: numpy in c:\\users\\kalinoski\\appdata\\local\\programs\\python\\python310\\lib\\site-packages (1.24.3)\n",
      "Note: you may need to restart the kernel to use updated packages.\n"
     ]
    },
    {
     "name": "stderr",
     "output_type": "stream",
     "text": [
      "\n",
      "[notice] A new release of pip available: 22.2.1 -> 23.1.2\n",
      "[notice] To update, run: python.exe -m pip install --upgrade pip\n"
     ]
    },
    {
     "name": "stdout",
     "output_type": "stream",
     "text": [
      "Requirement already satisfied: pandas in c:\\users\\kalinoski\\appdata\\local\\programs\\python\\python310\\lib\\site-packages (2.0.2)\n",
      "Requirement already satisfied: tzdata>=2022.1 in c:\\users\\kalinoski\\appdata\\local\\programs\\python\\python310\\lib\\site-packages (from pandas) (2023.3)\n",
      "Requirement already satisfied: pytz>=2020.1 in c:\\users\\kalinoski\\appdata\\local\\programs\\python\\python310\\lib\\site-packages (from pandas) (2023.3)\n",
      "Requirement already satisfied: numpy>=1.21.0 in c:\\users\\kalinoski\\appdata\\local\\programs\\python\\python310\\lib\\site-packages (from pandas) (1.24.3)\n",
      "Requirement already satisfied: python-dateutil>=2.8.2 in c:\\users\\kalinoski\\appdata\\roaming\\python\\python310\\site-packages (from pandas) (2.8.2)\n",
      "Requirement already satisfied: six>=1.5 in c:\\users\\kalinoski\\appdata\\roaming\\python\\python310\\site-packages (from python-dateutil>=2.8.2->pandas) (1.16.0)\n",
      "Note: you may need to restart the kernel to use updated packages.\n"
     ]
    },
    {
     "name": "stderr",
     "output_type": "stream",
     "text": [
      "\n",
      "[notice] A new release of pip available: 22.2.1 -> 23.1.2\n",
      "[notice] To update, run: python.exe -m pip install --upgrade pip\n"
     ]
    },
    {
     "name": "stdout",
     "output_type": "stream",
     "text": [
      "Requirement already satisfied: matplotlib in c:\\users\\kalinoski\\appdata\\local\\programs\\python\\python310\\lib\\site-packages (3.7.1)\n",
      "Requirement already satisfied: packaging>=20.0 in c:\\users\\kalinoski\\appdata\\roaming\\python\\python310\\site-packages (from matplotlib) (23.1)\n",
      "Requirement already satisfied: kiwisolver>=1.0.1 in c:\\users\\kalinoski\\appdata\\local\\programs\\python\\python310\\lib\\site-packages (from matplotlib) (1.4.4)\n",
      "Requirement already satisfied: numpy>=1.20 in c:\\users\\kalinoski\\appdata\\local\\programs\\python\\python310\\lib\\site-packages (from matplotlib) (1.24.3)\n",
      "Requirement already satisfied: pillow>=6.2.0 in c:\\users\\kalinoski\\appdata\\local\\programs\\python\\python310\\lib\\site-packages (from matplotlib) (9.5.0)\n",
      "Requirement already satisfied: pyparsing>=2.3.1 in c:\\users\\kalinoski\\appdata\\local\\programs\\python\\python310\\lib\\site-packages (from matplotlib) (3.0.9)\n",
      "Requirement already satisfied: python-dateutil>=2.7 in c:\\users\\kalinoski\\appdata\\roaming\\python\\python310\\site-packages (from matplotlib) (2.8.2)\n",
      "Requirement already satisfied: fonttools>=4.22.0 in c:\\users\\kalinoski\\appdata\\local\\programs\\python\\python310\\lib\\site-packages (from matplotlib) (4.39.4)\n",
      "Requirement already satisfied: cycler>=0.10 in c:\\users\\kalinoski\\appdata\\local\\programs\\python\\python310\\lib\\site-packages (from matplotlib) (0.11.0)\n",
      "Requirement already satisfied: contourpy>=1.0.1 in c:\\users\\kalinoski\\appdata\\local\\programs\\python\\python310\\lib\\site-packages (from matplotlib) (1.0.7)\n",
      "Requirement already satisfied: six>=1.5 in c:\\users\\kalinoski\\appdata\\roaming\\python\\python310\\site-packages (from python-dateutil>=2.7->matplotlib) (1.16.0)\n",
      "Note: you may need to restart the kernel to use updated packages.\n"
     ]
    },
    {
     "name": "stderr",
     "output_type": "stream",
     "text": [
      "\n",
      "[notice] A new release of pip available: 22.2.1 -> 23.1.2\n",
      "[notice] To update, run: python.exe -m pip install --upgrade pip\n"
     ]
    },
    {
     "name": "stdout",
     "output_type": "stream",
     "text": [
      "Requirement already satisfied: descartes in c:\\users\\kalinoski\\appdata\\local\\programs\\python\\python310\\lib\\site-packages (1.1.0)Note: you may need to restart the kernel to use updated packages.\n",
      "\n",
      "Requirement already satisfied: matplotlib in c:\\users\\kalinoski\\appdata\\local\\programs\\python\\python310\\lib\\site-packages (from descartes) (3.7.1)\n",
      "Requirement already satisfied: contourpy>=1.0.1 in c:\\users\\kalinoski\\appdata\\local\\programs\\python\\python310\\lib\\site-packages (from matplotlib->descartes) (1.0.7)\n",
      "Requirement already satisfied: numpy>=1.20 in c:\\users\\kalinoski\\appdata\\local\\programs\\python\\python310\\lib\\site-packages (from matplotlib->descartes) (1.24.3)\n",
      "Requirement already satisfied: packaging>=20.0 in c:\\users\\kalinoski\\appdata\\roaming\\python\\python310\\site-packages (from matplotlib->descartes) (23.1)\n",
      "Requirement already satisfied: python-dateutil>=2.7 in c:\\users\\kalinoski\\appdata\\roaming\\python\\python310\\site-packages (from matplotlib->descartes) (2.8.2)\n",
      "Requirement already satisfied: fonttools>=4.22.0 in c:\\users\\kalinoski\\appdata\\local\\programs\\python\\python310\\lib\\site-packages (from matplotlib->descartes) (4.39.4)\n",
      "Requirement already satisfied: pyparsing>=2.3.1 in c:\\users\\kalinoski\\appdata\\local\\programs\\python\\python310\\lib\\site-packages (from matplotlib->descartes) (3.0.9)\n",
      "Requirement already satisfied: kiwisolver>=1.0.1 in c:\\users\\kalinoski\\appdata\\local\\programs\\python\\python310\\lib\\site-packages (from matplotlib->descartes) (1.4.4)\n",
      "Requirement already satisfied: cycler>=0.10 in c:\\users\\kalinoski\\appdata\\local\\programs\\python\\python310\\lib\\site-packages (from matplotlib->descartes) (0.11.0)\n",
      "Requirement already satisfied: pillow>=6.2.0 in c:\\users\\kalinoski\\appdata\\local\\programs\\python\\python310\\lib\\site-packages (from matplotlib->descartes) (9.5.0)\n",
      "Requirement already satisfied: six>=1.5 in c:\\users\\kalinoski\\appdata\\roaming\\python\\python310\\site-packages (from python-dateutil>=2.7->matplotlib->descartes) (1.16.0)\n"
     ]
    },
    {
     "name": "stderr",
     "output_type": "stream",
     "text": [
      "\n",
      "[notice] A new release of pip available: 22.2.1 -> 23.1.2\n",
      "[notice] To update, run: python.exe -m pip install --upgrade pip\n"
     ]
    },
    {
     "name": "stdout",
     "output_type": "stream",
     "text": [
      "Requirement already satisfied: openpyxl in c:\\users\\kalinoski\\appdata\\local\\programs\\python\\python310\\lib\\site-packages (3.1.2)Note: you may need to restart the kernel to use updated packages.\n",
      "\n",
      "Requirement already satisfied: et-xmlfile in c:\\users\\kalinoski\\appdata\\local\\programs\\python\\python310\\lib\\site-packages (from openpyxl) (1.1.0)\n"
     ]
    },
    {
     "name": "stderr",
     "output_type": "stream",
     "text": [
      "\n",
      "[notice] A new release of pip available: 22.2.1 -> 23.1.2\n",
      "[notice] To update, run: python.exe -m pip install --upgrade pip\n"
     ]
    }
   ],
   "source": [
    "%pip install geopandas\n",
    "%pip install numpy\n",
    "%pip install pandas\n",
    "%pip install matplotlib\n",
    "%pip install descartes \n",
    "%pip install openpyxl"
   ]
  },
  {
   "cell_type": "code",
   "execution_count": 2,
   "metadata": {},
   "outputs": [],
   "source": [
    "import geopandas as gpd\n",
    "import numpy as np\n",
    "import pandas as pd\n",
    "import matplotlib.pyplot as plt"
   ]
  },
  {
   "attachments": {},
   "cell_type": "markdown",
   "metadata": {},
   "source": [
    "# Importando o arquivo e suas páginas.\n"
   ]
  },
  {
   "cell_type": "code",
   "execution_count": 3,
   "metadata": {},
   "outputs": [
    {
     "data": {
      "text/plain": [
       "{'VENDAS':     CLIENTE  IDADE             ESTADO PRODUTO  QUANTIDADE_VENDIDA       DATA\n",
       " 0         1     47     SANTA CATARINA       A                  64 2021-01-05\n",
       " 1         1     47     SANTA CATARINA       B                 488 2021-01-15\n",
       " 2         1     47     SANTA CATARINA       C                 420 2021-01-25\n",
       " 3         1     47     SANTA CATARINA       D                 259 2021-02-04\n",
       " 4         1     47     SANTA CATARINA       E                 387 2021-02-14\n",
       " 5         2     61          SÃO PAULO       A                 302 2021-02-24\n",
       " 6         2     61          SÃO PAULO       B                 117 2021-03-06\n",
       " 7         2     61          SÃO PAULO       C                 344 2021-03-16\n",
       " 8         2     61          SÃO PAULO       D                 292 2021-04-15\n",
       " 9         2     61          SÃO PAULO       E                 447 2021-04-25\n",
       " 10        3     26              BAHIA       A                  42 2021-05-05\n",
       " 11        3     26              BAHIA       B                 403 2021-05-15\n",
       " 12        3     26              BAHIA       C                 108 2021-05-25\n",
       " 13        3     26              BAHIA       D                  26 2021-06-14\n",
       " 14        3     26              BAHIA       E                  25 2021-06-24\n",
       " 15        4     43     SANTA CATARINA       D                 396 2021-07-04\n",
       " 16        4     43     SANTA CATARINA       C                 227 2021-08-03\n",
       " 17        4     43             PARANÁ       A                 446 2021-08-13\n",
       " 18        4     43             PARANÁ       B                 409 2021-08-23\n",
       " 19        5     20  RIO GRANDE DO SUL       A                 482 2021-09-02\n",
       " 20        5     20  RIO GRANDE DO SUL       B                 325 2021-09-12\n",
       " 21        5     20  RIO GRANDE DO SUL       C                  69 2021-03-06\n",
       " 22        5     20  RIO GRANDE DO SUL       D                 293 2021-03-16\n",
       " 23        5     20  RIO GRANDE DO SUL       E                  89 2021-03-26\n",
       " 24        6     58     RIO DE JANEIRO       C                 280 2021-08-23\n",
       " 25        6     58     RIO DE JANEIRO       D                 347 2021-08-23\n",
       " 26        6     58     RIO DE JANEIRO       E                 294 2021-05-15\n",
       " 27        6     58     RIO DE JANEIRO       E                 291 2021-08-23\n",
       " 28        7     43            PARAÍBA       A                 257 2021-01-05\n",
       " 29        7     43            PARAÍBA       B                  51 2021-01-15\n",
       " 30        7     43            PARAÍBA       C                 462 2021-01-25\n",
       " 31        7     43            PARAÍBA       D                 253 2021-02-04\n",
       " 32        8     47            PARAÍBA       A                 257 2021-03-16\n",
       " 33        8     47            PARAÍBA       B                  51 2021-04-15\n",
       " 34        8     47            PARAÍBA       C                 462 2021-04-25\n",
       " 35        8     47            PARAÍBA       D                 253 2021-05-05,\n",
       " 'PRODUTOS':   PRODUTO                CATEGORIA\n",
       " 0       A  MAQUINA DE CORTAR GRAMA\n",
       " 1       B               MANGUEIRAS\n",
       " 2       C    UTILIDADES DOMÉSTICAS\n",
       " 3       D                  LIMPEZA\n",
       " 4       E               JARDINAGEM}"
      ]
     },
     "execution_count": 3,
     "metadata": {},
     "output_type": "execute_result"
    }
   ],
   "source": [
    "# Importa o arquivo Excel com suas páginas VENDAS e PRODUTOS\n",
    "frame_df = pd.read_excel('Base-Dados-Desafio-D&A-01.xlsx',sheet_name=['VENDAS','PRODUTOS'])\n",
    "sales_df = frame_df.get('VENDAS')\n",
    "products_df = frame_df.get('PRODUTOS')\n",
    "\n",
    "# Mostra a tabela principal com suas páginas \n",
    "frame_df"
   ]
  },
  {
   "attachments": {},
   "cell_type": "markdown",
   "metadata": {},
   "source": [
    "# Preparação do DataSet"
   ]
  },
  {
   "cell_type": "code",
   "execution_count": null,
   "metadata": {},
   "outputs": [],
   "source": [
    "# Convertendo a coluna 'DATA' para o formato de data\n",
    "sales_df['DATA'] = pd.to_datetime(sales_df['DATA'], infer_datetime_format=True)\n",
    "\n",
    "# Coletando o mês da coluna 'DATA'\n",
    "sales_df['Mes'] = sales_df['DATA'].dt.month  # Para evitar sobre-escrever, a coluna 'Mes' foi criada"
   ]
  },
  {
   "attachments": {},
   "cell_type": "markdown",
   "metadata": {},
   "source": [
    "# Importando, tratando e criando tabelas para a demografia."
   ]
  },
  {
   "cell_type": "code",
   "execution_count": null,
   "metadata": {},
   "outputs": [],
   "source": [
    "# Filtrando a tabela em uma tabela com os Estados e quantas vezes foram repitidos.\n",
    "\n",
    "df = frame_df['VENDAS']\n",
    "df = df['ESTADO'] \n",
    "\n",
    "counts = df.value_counts() # Conta quantas vezes o Estado aparece.\n",
    "\n",
    "# Cria um novo Data Frame com os Estados e sua ocorrência.\n",
    "df_demographics = pd.DataFrame({\n",
    "    'Estados': counts.index,\n",
    "    'Contagem': counts.values\n",
    "})\n",
    "\n",
    "# Converte os Estados em suas respectivas UF's para assim ser possivel o merge com a tabela do IBGE.\n",
    "df_demographics['Estados'] = df_demographics['Estados'].replace({\n",
    "    'SANTA CATARINA': 'SC',\n",
    "    'PARAÍBA': 'PB',\n",
    "    'SÃO PAULO': 'SP',\n",
    "    'BAHIA': 'BA',\n",
    "    'RIO GRANDE DO SUL': 'RS',\n",
    "    'RIO DE JANEIRO': 'RJ',\n",
    "    'PARANÁ': 'PR',\n",
    "})\n",
    "df_demographics"
   ]
  },
  {
   "cell_type": "code",
   "execution_count": null,
   "metadata": {},
   "outputs": [],
   "source": [
    "# Lê o arquivo do IBGE e seleciona a camada das UF's\n",
    "ibge_table = gpd.read_file('bcim_2016_21_11_2018.gpkg', layer='lim_unidade_federacao_a')\n",
    "\n",
    "# Altera o nome da coluna para possibilitar a mesclagem\n",
    "ibge_table.rename({'sigla': 'Estados'}, axis=1, inplace=True)\n",
    "\n",
    "# Mescla as duas tabelas com base na coluna 'Estados'\n",
    "Brasil = ibge_table.merge(df_demographics, on='Estados', how='outer')\n",
    "\n",
    "# Seleciona as colunas 'Estados', 'Contagem' e 'geometry' do DataFrame 'Brasil'\n",
    "Brasil[['Estados', 'Contagem', 'geometry']]\n",
    "\n",
    "# Altera os valores NaN na coluna 'Contagem' para 0\n",
    "Brasil['Contagem'] = Brasil['Contagem'].fillna(0)"
   ]
  },
  {
   "attachments": {},
   "cell_type": "markdown",
   "metadata": {},
   "source": [
    "---\n",
    "# *Representação gráfica da demografia*."
   ]
  },
  {
   "cell_type": "code",
   "execution_count": null,
   "metadata": {},
   "outputs": [],
   "source": [
    "%matplotlib inline\n",
    "\n",
    "Brasil.plot(column = 'Contagem',cmap =  'Reds', figsize= (15,9), legend= True, edgecolor= 'gray') # Montagem do gráfico.\n"
   ]
  },
  {
   "attachments": {},
   "cell_type": "markdown",
   "metadata": {},
   "source": [
    "Esse gráfico representa a compra de produtos por Estado.A distribuição no Brasil por região: \n",
    "\n",
    "* Região Sul = 15\n",
    "    * Santa Catarina = 7\n",
    "    * Rio Grande do Sul = 5\n",
    "    * Paraná = 2\n",
    "* Região Nordeste = 13\n",
    "    * Paraíba = 8\n",
    "    * Bahia = 5\n",
    "* Região Sudeste = 9\n",
    "    * São Paulo = 5\n",
    "    * Rio de Janeiro = 4\n",
    "\n",
    "Sendo assim, é notável que a região com a maior densidade de consumidores é a região sul do país e sendo em potencial o melhor publico. O mercado no nordeste não é fraco e poderia ser expandido já que os produtos são bem recebidos na Paraíba e Bahia. Já no sudeste o mercado pode se popularizar pela alta densidade que ambos estados possuem e um mercado bem movimentado economicamente."
   ]
  },
  {
   "attachments": {},
   "cell_type": "markdown",
   "metadata": {},
   "source": [
    "---\n",
    "# Somando a quantidade de vendas por produto e renomeando as colunas."
   ]
  },
  {
   "cell_type": "code",
   "execution_count": 6,
   "metadata": {},
   "outputs": [
    {
     "data": {
      "text/html": [
       "<div>\n",
       "<style scoped>\n",
       "    .dataframe tbody tr th:only-of-type {\n",
       "        vertical-align: middle;\n",
       "    }\n",
       "\n",
       "    .dataframe tbody tr th {\n",
       "        vertical-align: top;\n",
       "    }\n",
       "\n",
       "    .dataframe thead th {\n",
       "        text-align: right;\n",
       "    }\n",
       "</style>\n",
       "<table border=\"1\" class=\"dataframe\">\n",
       "  <thead>\n",
       "    <tr style=\"text-align: right;\">\n",
       "      <th></th>\n",
       "      <th>Produto</th>\n",
       "      <th>Vendas</th>\n",
       "    </tr>\n",
       "  </thead>\n",
       "  <tbody>\n",
       "    <tr>\n",
       "      <th>0</th>\n",
       "      <td>A</td>\n",
       "      <td>1850</td>\n",
       "    </tr>\n",
       "    <tr>\n",
       "      <th>1</th>\n",
       "      <td>B</td>\n",
       "      <td>1844</td>\n",
       "    </tr>\n",
       "    <tr>\n",
       "      <th>2</th>\n",
       "      <td>C</td>\n",
       "      <td>2372</td>\n",
       "    </tr>\n",
       "    <tr>\n",
       "      <th>3</th>\n",
       "      <td>D</td>\n",
       "      <td>2119</td>\n",
       "    </tr>\n",
       "    <tr>\n",
       "      <th>4</th>\n",
       "      <td>E</td>\n",
       "      <td>1533</td>\n",
       "    </tr>\n",
       "  </tbody>\n",
       "</table>\n",
       "</div>"
      ],
      "text/plain": [
       "  Produto  Vendas\n",
       "0       A    1850\n",
       "1       B    1844\n",
       "2       C    2372\n",
       "3       D    2119\n",
       "4       E    1533"
      ]
     },
     "execution_count": 6,
     "metadata": {},
     "output_type": "execute_result"
    }
   ],
   "source": [
    "# Agrupa com base no 'PRODUTO' e calcula a soma de 'QUANTIDADE_VENDIDA' para cada produto\n",
    "sum_sales = sales_df.groupby('PRODUTO')['QUANTIDADE_VENDIDA'].sum().reset_index()\n",
    "\n",
    "# Renomeia as colunas para os nomes desejados\n",
    "sum_sales.rename(columns={'PRODUTO': 'Produto', 'QUANTIDADE_VENDIDA': 'Vendas'}, inplace=True)\n",
    "\n",
    "sum_sales.head()\n"
   ]
  },
  {
   "attachments": {},
   "cell_type": "markdown",
   "metadata": {},
   "source": [
    "---\n",
    "# *Gráfico com as vendas de cada produto*."
   ]
  },
  {
   "attachments": {},
   "cell_type": "markdown",
   "metadata": {},
   "source": [
    "Com as informações anteriores é possivel realizar a montagem de um gráfico com a relação Produto / Vendas, observando-o é possivel perceber que o produto mais vendido foi o produto C e o menos vendido foi o produto E.\n",
    "\n",
    "A seguir,uma lista decrescente dos produtos em relação as suas vendas:\n",
    "* C = 2372\n",
    "* D = 2119\n",
    "* A = 1850\n",
    "* B = 1844 \n",
    "* E = 1533"
   ]
  },
  {
   "cell_type": "code",
   "execution_count": 7,
   "metadata": {},
   "outputs": [
    {
     "data": {
      "image/png": "[encoded data removed]",
      "text/plain": [
       "<Figure size 1300x600 with 1 Axes>"
      ]
     },
     "metadata": {},
     "output_type": "display_data"
    }
   ],
   "source": [
    "sales_plot = sum_sales.plot.bar(x='Produto', y='Vendas',figsize=(13,6), rot=0, subplots=True, title='Quantidade de vendas por produto.')\n",
    "\n",
    "for ax in sales_plot:\n",
    "    for bar in ax.patches:\n",
    "        height = bar.get_height()\n",
    "        x, y = bar.get_xy()\n",
    "        ax.annotate('{}'.format(height), (x + bar.get_width() / 2, y + height + 20), ha='center')\n",
    "\n",
    "plt.show()"
   ]
  },
  {
   "cell_type": "code",
   "execution_count": null,
   "metadata": {},
   "outputs": [],
   "source": []
  }
 ],
 "metadata": {
  "kernelspec": {
   "display_name": "Python 3",
   "language": "python",
   "name": "python3"
  },
  "language_info": {
   "codemirror_mode": {
    "name": "ipython",
    "version": 3
   },
   "file_extension": ".py",
   "mimetype": "text/x-python",
   "name": "python",
   "nbconvert_exporter": "python",
   "pygments_lexer": "ipython3",
   "version": "3.10.6"
  },
  "orig_nbformat": 4
 },
 "nbformat": 4,
 "nbformat_minor": 2
}
